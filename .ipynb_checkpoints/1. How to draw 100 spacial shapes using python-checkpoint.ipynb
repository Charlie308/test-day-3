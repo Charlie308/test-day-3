{
 "cells": [
  {
   "cell_type": "code",
   "execution_count": null,
   "id": "605f6fb3",
   "metadata": {},
   "outputs": [],
   "source": [
    "task 1"
   ]
  },
  {
   "cell_type": "code",
   "execution_count": 2,
   "id": "092769c3",
   "metadata": {},
   "outputs": [],
   "source": [
    "import turtle\n",
    "t = turtle.Turtle()\n",
    "t.speed(1)\n",
    "t.color(\"red\",\"blue\")\n",
    "\n",
    "for i in range(3):\n",
    "    t.fd(200)\n",
    "    t.lt(120)\n",
    "   "
   ]
  },
  {
   "cell_type": "code",
   "execution_count": null,
   "id": "2ddcffbf",
   "metadata": {},
   "outputs": [],
   "source": [
    "Task 2"
   ]
  },
  {
   "cell_type": "code",
   "execution_count": 1,
   "id": "b3cac348",
   "metadata": {},
   "outputs": [],
   "source": [
    "import turtle\n",
    "t = turtle.Turtle()\n",
    "t.color(\"red\",\"blue\")\n",
    "t.pensize(5)\n",
    "\n",
    "for i in range(3):\n",
    "    t.lt(60)\n",
    "    for i in range(3):\n",
    "        t.fd(200)\n",
    "        t.lt(120)\n",
    "    t.lt(60)\n",
    "    "
   ]
  },
  {
   "cell_type": "code",
   "execution_count": null,
   "id": "81ec9525",
   "metadata": {},
   "outputs": [],
   "source": [
    "Task 3"
   ]
  },
  {
   "cell_type": "code",
   "execution_count": 1,
   "id": "649220e1",
   "metadata": {},
   "outputs": [],
   "source": [
    "import turtle\n",
    "t = turtle.Turtle()\n",
    "t.color(\"red\",\"blue\")\n",
    "t.pensize(3)\n",
    "\n",
    "for i in range(4):\n",
    "    t.lt(30)\n",
    "    for i in range(3):\n",
    "        t.fd(200)\n",
    "        t.lt(120)\n",
    "    t.lt(60)\n",
    "    "
   ]
  },
  {
   "cell_type": "code",
   "execution_count": null,
   "id": "8537fd34",
   "metadata": {},
   "outputs": [],
   "source": [
    "Task 4"
   ]
  },
  {
   "cell_type": "code",
   "execution_count": 2,
   "id": "53919764",
   "metadata": {},
   "outputs": [],
   "source": [
    "import turtle\n",
    "t = turtle.Turtle()\n",
    "t.pensize(3)\n",
    "t.color(\"red\",\"blue\")\n",
    "\n",
    "for i in range(6):\n",
    "    for i in range(3):\n",
    "        t.fd(200)\n",
    "        t.lt(120)\n",
    "    t.lt(60)"
   ]
  },
  {
   "cell_type": "code",
   "execution_count": null,
   "id": "96d7cbb5",
   "metadata": {},
   "outputs": [],
   "source": [
    "Task 5"
   ]
  },
  {
   "cell_type": "code",
   "execution_count": 1,
   "id": "59c019e1",
   "metadata": {},
   "outputs": [],
   "source": [
    "import turtle\n",
    "t = turtle.Turtle()\n",
    "t.pensize(3)\n",
    "t.speed(0)\n",
    "\n",
    "t.color(\"red\",\"blue\")\n",
    "for i in range(6):\n",
    "    for i in range(3):\n",
    "        t.fd(200)\n",
    "        t.lt(120)\n",
    "    t.lt(60)\n",
    "\n",
    "t.color(\"blue\",\"blue\")\n",
    "t.lt(30)\n",
    "for i in range(6):\n",
    "    for i in range(3):\n",
    "        t.fd(200)\n",
    "        t.lt(120)\n",
    "    t.lt(60)\n"
   ]
  },
  {
   "cell_type": "code",
   "execution_count": null,
   "id": "bdc26636",
   "metadata": {},
   "outputs": [],
   "source": [
    "Task 6"
   ]
  },
  {
   "cell_type": "code",
   "execution_count": 1,
   "id": "2468be86",
   "metadata": {},
   "outputs": [],
   "source": [
    "import turtle\n",
    "t = turtle.Turtle()\n",
    "t.penup()\n",
    "t.goto(0,-100)\n",
    "t.pendown()\n",
    "t.color(\"red\",\"blue\")\n",
    "t.pensize(3)\n",
    "t.speed(3)\n",
    "\n",
    "for i in range(8):\n",
    "    for i in range(3):\n",
    "        t.fd(100)\n",
    "        t.rt(120)\n",
    "    t.fd(100)\n",
    "    t.lt(45)\n",
    "    "
   ]
  },
  {
   "cell_type": "code",
   "execution_count": null,
   "id": "b84cb810",
   "metadata": {},
   "outputs": [],
   "source": [
    "Task 7"
   ]
  },
  {
   "cell_type": "code",
   "execution_count": 1,
   "id": "c7e872dc",
   "metadata": {},
   "outputs": [],
   "source": [
    "import turtle\n",
    "t = turtle.Turtle()\n",
    "t.penup()\n",
    "t.goto(0,-100)\n",
    "t.pendown()\n",
    "t.pensize(3)\n",
    "t.color(\"red\",\"blue\")\n",
    "t.speed(0)\n",
    "\n",
    "for i in range(8):\n",
    "    t.begin_fill()\n",
    "    for i in range(3):\n",
    "        t.fd(100)\n",
    "        t.lt(120)\n",
    "    t.end_fill()\n",
    "    t.fd(100)\n",
    "    t.lt(45)"
   ]
  },
  {
   "cell_type": "code",
   "execution_count": null,
   "id": "7de6327a",
   "metadata": {},
   "outputs": [],
   "source": [
    "Task 8"
   ]
  },
  {
   "cell_type": "code",
   "execution_count": 1,
   "id": "cea2a6b7",
   "metadata": {},
   "outputs": [],
   "source": [
    "import turtle\n",
    "t = turtle.Turtle()\n",
    "t.color(\"red\",\"blue\")\n",
    "t.pensize(2)\n",
    "\n",
    "for i in range(3):\n",
    "    for i in range(3):\n",
    "        t.fd(200)\n",
    "        t.lt(120)\n",
    "    t.fd(200)\n",
    "    t.rt(120)"
   ]
  },
  {
   "cell_type": "code",
   "execution_count": null,
   "id": "912e039a",
   "metadata": {},
   "outputs": [],
   "source": [
    "Task 9"
   ]
  },
  {
   "cell_type": "code",
   "execution_count": 1,
   "id": "92ada307",
   "metadata": {},
   "outputs": [],
   "source": [
    "import turtle\n",
    "t = turtle.Turtle()\n",
    "t.pensize(2)\n",
    "t.color(\"red\",\"blue\")\n",
    "t.penup()\n",
    "t.goto(-50,100)\n",
    "t.pendown()\n",
    "\n",
    "for i in range(4):\n",
    "    for i in range(3):\n",
    "        t.fd(200)\n",
    "        t.lt(120)\n",
    "    t.fd(200)\n",
    "    t.rt(90)"
   ]
  },
  {
   "cell_type": "code",
   "execution_count": null,
   "id": "fcf5a2be",
   "metadata": {},
   "outputs": [],
   "source": [
    "Task 10"
   ]
  },
  {
   "cell_type": "code",
   "execution_count": 1,
   "id": "2cacff3b",
   "metadata": {},
   "outputs": [],
   "source": [
    "import turtle\n",
    "t = turtle.Turtle()\n",
    "t.pensize(2)\n",
    "t.color(\"red\",\"blue\")\n",
    "a = 30\n",
    "for _ in range(10):\n",
    "    for _ in range(3):\n",
    "        t.fd(a)\n",
    "        t.lt(120)\n",
    "    a += 30\n",
    "    "
   ]
  },
  {
   "cell_type": "code",
   "execution_count": null,
   "id": "50269cc2",
   "metadata": {},
   "outputs": [],
   "source": [
    "Task 11"
   ]
  },
  {
   "cell_type": "code",
   "execution_count": null,
   "id": "0993a23f",
   "metadata": {},
   "outputs": [],
   "source": [
    "import turtle\n",
    "t = turtle.Turtle()\n",
    "t.color(\"red\",\"blue\")\n",
    "t.pensize(2)\n",
    "t.goto(0,0)\n",
    "\n",
    "for i in range(8):\n",
    "    t.fd(200)\n",
    "    t.begin_fill()\n",
    "    for i in range(3):\n",
    "        t.fd(80)\n",
    "        t.rt(120)\n",
    "    t.end_fill()\n",
    "    t.goto(0,0)\n",
    "    t.rt(45)"
   ]
  },
  {
   "cell_type": "code",
   "execution_count": null,
   "id": "1e0c07f0",
   "metadata": {},
   "outputs": [],
   "source": [
    "Task 12"
   ]
  },
  {
   "cell_type": "code",
   "execution_count": 1,
   "id": "ee7a00e6",
   "metadata": {},
   "outputs": [],
   "source": [
    "import turtle\n",
    "t = turtle.Turtle()\n",
    "t.pensize(2)\n",
    "t.color(\"red\",\"blue\")\n",
    "t.goto(0,0)\n",
    "a = 100\n",
    "\n",
    "for _ in range(2):\n",
    "    for _ in range(4):\n",
    "        for _ in range(3):\n",
    "            t.fd(a)\n",
    "            t.rt(120)\n",
    "        t.rt(90)\n",
    "    a += 100"
   ]
  },
  {
   "cell_type": "code",
   "execution_count": null,
   "id": "387f6c34",
   "metadata": {},
   "outputs": [],
   "source": [
    "Task 13"
   ]
  },
  {
   "cell_type": "code",
   "execution_count": 1,
   "id": "34120260",
   "metadata": {},
   "outputs": [],
   "source": [
    "import turtle\n",
    "t = turtle.Turtle()\n",
    "t.pensize(2)\n",
    "t.color(\"red\",\"blue\")\n",
    "t.goto(0,0)\n",
    "\n",
    "for i in range(4):\n",
    "    t.fd(200)\n",
    "    t.rt(90)"
   ]
  },
  {
   "cell_type": "code",
   "execution_count": null,
   "id": "b70e00b4",
   "metadata": {},
   "outputs": [],
   "source": [
    "Task 14"
   ]
  },
  {
   "cell_type": "code",
   "execution_count": 2,
   "id": "2551218f",
   "metadata": {},
   "outputs": [],
   "source": [
    "import turtle\n",
    "t = turtle.Turtle()\n",
    "t.goto(0,0)\n",
    "t.pensize(2)\n",
    "t.color(\"red\",\"blue\")\n",
    "t.rt(45)\n",
    "\n",
    "for i in range(3):\n",
    "    for i in range(4):\n",
    "        t.fd(150)\n",
    "        t.rt(90)\n",
    "    t.rt(120)"
   ]
  },
  {
   "cell_type": "code",
   "execution_count": null,
   "id": "8c79eeca",
   "metadata": {},
   "outputs": [],
   "source": [
    "Task 15"
   ]
  },
  {
   "cell_type": "code",
   "execution_count": 2,
   "id": "1df2582f",
   "metadata": {},
   "outputs": [],
   "source": [
    "import turtle\n",
    "t = turtle.Turtle()\n",
    "t.goto(0,0)\n",
    "t.pensize(2)\n",
    "t.color(\"red\",\"blue\")\n",
    "\n",
    "for i in range(4):\n",
    "    for i in range(4):\n",
    "        t.fd(150)\n",
    "        t.rt(90)\n",
    "    t.rt(90)"
   ]
  },
  {
   "cell_type": "code",
   "execution_count": null,
   "id": "08b22a4e",
   "metadata": {},
   "outputs": [],
   "source": [
    "Task 16"
   ]
  },
  {
   "cell_type": "code",
   "execution_count": 1,
   "id": "5abe5e5b",
   "metadata": {},
   "outputs": [],
   "source": [
    "import turtle\n",
    "t = turtle.Turtle()\n",
    "t.goto(0,0)\n",
    "t.pensize(2)\n",
    "t.color(\"red\",\"blue\")\n",
    "t.lt(90)\n",
    "for i in range(6):\n",
    "    for i in range(4):\n",
    "        t.fd(150)\n",
    "        t.rt(90)\n",
    "    t.rt(60)"
   ]
  },
  {
   "cell_type": "code",
   "execution_count": null,
   "id": "69fb43db",
   "metadata": {},
   "outputs": [],
   "source": [
    "Task 17"
   ]
  },
  {
   "cell_type": "code",
   "execution_count": 1,
   "id": "e9a59174",
   "metadata": {},
   "outputs": [],
   "source": [
    "import turtle\n",
    "t = turtle.Turtle()\n",
    "t.goto(0,0)\n",
    "t.pensize(2)\n",
    "t.color(\"red\",\"blue\")\n",
    "\n",
    "for i in range(2):\n",
    "    for i in range(4):\n",
    "        for i in range(4):\n",
    "            t.fd(150)\n",
    "            t.rt(90)\n",
    "        t.rt(90)\n",
    "    t.rt(45)"
   ]
  },
  {
   "cell_type": "code",
   "execution_count": null,
   "id": "515b0f5d",
   "metadata": {},
   "outputs": [],
   "source": [
    "Task 18"
   ]
  },
  {
   "cell_type": "code",
   "execution_count": 1,
   "id": "41f46ac1",
   "metadata": {},
   "outputs": [],
   "source": [
    "import turtle\n",
    "t = turtle.Turtle()\n",
    "t.goto(0,0)\n",
    "t.pensize(2)\n",
    "t.color(\"red\",\"blue\")\n",
    "\n",
    "for i in range(3):\n",
    "    for i in range(4):\n",
    "        for i in range(4):\n",
    "            t.fd(150)\n",
    "            t.rt(90)\n",
    "        t.rt(90)\n",
    "    t.rt(30)"
   ]
  },
  {
   "cell_type": "code",
   "execution_count": null,
   "id": "bfb74e5d",
   "metadata": {},
   "outputs": [],
   "source": [
    "Task 19"
   ]
  },
  {
   "cell_type": "code",
   "execution_count": 1,
   "id": "50863286",
   "metadata": {},
   "outputs": [],
   "source": [
    "import turtle\n",
    "t = turtle.Turtle()\n",
    "t.goto(0,0)\n",
    "t.pensize(2)\n",
    "t.speed(0)\n",
    "t.color(\"red\",\"blue\")\n",
    "\n",
    "for i in range(5):\n",
    "    for i in range(4):\n",
    "        for i in range(4):\n",
    "            t.fd(150)\n",
    "            t.rt(90)\n",
    "        t.rt(90)\n",
    "    t.rt(18)"
   ]
  },
  {
   "cell_type": "code",
   "execution_count": null,
   "id": "56a03df2",
   "metadata": {},
   "outputs": [],
   "source": [
    "Task 20"
   ]
  },
  {
   "cell_type": "code",
   "execution_count": 1,
   "id": "a451cf86",
   "metadata": {},
   "outputs": [],
   "source": [
    "import turtle\n",
    "t = turtle.Turtle()\n",
    "t.color(\"red\",\"blue\")\n",
    "t.goto(0,0)\n",
    "t.pensize(2)\n",
    "\n",
    "for i in range(5):\n",
    "    t.fd(150)\n",
    "    t.lt(72)"
   ]
  },
  {
   "cell_type": "code",
   "execution_count": null,
   "id": "401188b4",
   "metadata": {},
   "outputs": [],
   "source": [
    "Task 21"
   ]
  },
  {
   "cell_type": "code",
   "execution_count": 1,
   "id": "0063d7ec",
   "metadata": {},
   "outputs": [],
   "source": [
    "import turtle\n",
    "t = turtle.Turtle()\n",
    "t.pensize(2)\n",
    "t.goto(0,0)\n",
    "t.color(\"red\",\"blue\")\n",
    "t.rt(24)\n",
    "\n",
    "for i in range(3):\n",
    "    t.begin_fill()\n",
    "    for i in range(5):\n",
    "        t.fd(150)\n",
    "        t.lt(72)\n",
    "    t.end_fill()\n",
    "    t.lt(120)"
   ]
  },
  {
   "cell_type": "code",
   "execution_count": null,
   "id": "d7f1bce6",
   "metadata": {},
   "outputs": [],
   "source": [
    "Task 22"
   ]
  },
  {
   "cell_type": "code",
   "execution_count": 1,
   "id": "c12ce53e",
   "metadata": {},
   "outputs": [],
   "source": [
    "import turtle\n",
    "t = turtle.Turtle()\n",
    "t.goto(0,0)\n",
    "t.pensize(2)\n",
    "t.color(\"red\",\"blue\")\n",
    "t.rt(36)\n",
    "\n",
    "for i in range(5):\n",
    "    for i in range(5):\n",
    "        t.fd(150)\n",
    "        t.lt(72)\n",
    "    t.lt(72)\n"
   ]
  },
  {
   "cell_type": "code",
   "execution_count": null,
   "id": "35d2134a",
   "metadata": {},
   "outputs": [],
   "source": [
    "Task 23"
   ]
  },
  {
   "cell_type": "code",
   "execution_count": 1,
   "id": "7199e74f",
   "metadata": {},
   "outputs": [],
   "source": [
    "import turtle\n",
    "t = turtle.Turtle()\n",
    "t.goto(0,0)\n",
    "t.pensize(2)\n",
    "t.color(\"red\",\"blue\")\n",
    "t.rt(48)\n",
    "\n",
    "for i in range(7):\n",
    "    for i in range(5):\n",
    "        t.fd(150)\n",
    "        t.lt(72)\n",
    "    t.lt(51.5)"
   ]
  },
  {
   "cell_type": "code",
   "execution_count": null,
   "id": "6602342a",
   "metadata": {},
   "outputs": [],
   "source": [
    "Task 24"
   ]
  },
  {
   "cell_type": "code",
   "execution_count": 1,
   "id": "44f6dde1",
   "metadata": {},
   "outputs": [],
   "source": [
    "import turtle\n",
    "t = turtle.Turtle()\n",
    "t.goto(0,0)\n",
    "t.pensize(2)\n",
    "t.color(\"red\",\"blue\")\n",
    "t.rt(36)\n",
    "\n",
    "for i in range(8):\n",
    "    for i in range(5):\n",
    "        t.fd(150)\n",
    "        t.lt(72)\n",
    "    t.lt(45)"
   ]
  },
  {
   "cell_type": "code",
   "execution_count": null,
   "id": "cbaf6f68",
   "metadata": {},
   "outputs": [],
   "source": [
    "Task 25"
   ]
  },
  {
   "cell_type": "code",
   "execution_count": 1,
   "id": "ff8a8378",
   "metadata": {},
   "outputs": [],
   "source": [
    "import turtle\n",
    "t = turtle.Turtle()\n",
    "t.goto(0,0)\n",
    "t.pensize(2)\n",
    "t.color(\"red\",\"blue\")\n",
    "\n",
    "for i in range(10):\n",
    "    for i in range(5):\n",
    "        t.fd(100)\n",
    "        t.left(72)\n",
    "    t.lt(36)"
   ]
  },
  {
   "cell_type": "code",
   "execution_count": null,
   "id": "3b3ad47e",
   "metadata": {},
   "outputs": [],
   "source": [
    "Task 26"
   ]
  },
  {
   "cell_type": "code",
   "execution_count": 1,
   "id": "6d8dbf0d",
   "metadata": {},
   "outputs": [],
   "source": [
    "import turtle\n",
    "t = turtle.Turtle()\n",
    "t.goto(0,0)\n",
    "t.pensize(2)\n",
    "t.color(\"red\",\"blue\")\n",
    "\n",
    "for i in range(20):\n",
    "    for i in range(5):\n",
    "        t.fd(150)\n",
    "        t.lt(72)\n",
    "    t.lt(18)"
   ]
  },
  {
   "cell_type": "code",
   "execution_count": null,
   "id": "6f1d66a1",
   "metadata": {},
   "outputs": [],
   "source": [
    "Task 27"
   ]
  },
  {
   "cell_type": "code",
   "execution_count": 1,
   "id": "92e86e8c",
   "metadata": {},
   "outputs": [],
   "source": [
    "import turtle\n",
    "t = turtle.Turtle()\n",
    "t.goto(0,0)\n",
    "t.pensize(2)\n",
    "t.color(\"red\",\"blue\")\n",
    "t.rt(30)\n",
    "\n",
    "for i in range(6):\n",
    "    t.fd(150)\n",
    "    t.lt(60)"
   ]
  },
  {
   "cell_type": "code",
   "execution_count": null,
   "id": "bfb504bb",
   "metadata": {},
   "outputs": [],
   "source": [
    "Task 28"
   ]
  },
  {
   "cell_type": "code",
   "execution_count": 1,
   "id": "181c3899",
   "metadata": {},
   "outputs": [],
   "source": [
    "import turtle\n",
    "t = turtle.Turtle()\n",
    "t.goto(0,0)\n",
    "t.pensize(2)\n",
    "t.color(\"red\",\"blue\")\n",
    "t.rt(90)\n",
    "\n",
    "for i in range(3):\n",
    "    for i in range(6):\n",
    "        t.fd(100)\n",
    "        t.lt(60)\n",
    "    t.lt(120)"
   ]
  },
  {
   "cell_type": "code",
   "execution_count": null,
   "id": "5aabe35a",
   "metadata": {},
   "outputs": [],
   "source": [
    "Task 29"
   ]
  },
  {
   "cell_type": "code",
   "execution_count": null,
   "id": "f31b43ee",
   "metadata": {},
   "outputs": [],
   "source": [
    "import turtle\n",
    "t = turtle.Turtle()\n",
    "t.goto(0,0)\n",
    "t.pensize(2)\n",
    "t.pencolor(\"red\")\n",
    "t.rt(90)\n",
    "\n",
    "for i in range(2):\n",
    "    for i in range(3):\n",
    "        for i in range(6):\n",
    "            t.fd(100)\n",
    "            t.lt(60)\n",
    "        t.lt(120)\n",
    "    t.lt(60)"
   ]
  },
  {
   "cell_type": "code",
   "execution_count": null,
   "id": "6939b050",
   "metadata": {},
   "outputs": [],
   "source": [
    "Task 30"
   ]
  },
  {
   "cell_type": "code",
   "execution_count": 1,
   "id": "fadd000c",
   "metadata": {},
   "outputs": [],
   "source": [
    "import turtle\n",
    "t = turtle.Turtle()\n",
    "t.goto(0,0)\n",
    "t.pencolor(\"red\")\n",
    "t.pensize(2)\n",
    "\n",
    "for i in range(5):\n",
    "    for i in range(6):\n",
    "        t.fd(100)\n",
    "        t.rt(60)\n",
    "    t.rt(360/5)"
   ]
  },
  {
   "cell_type": "code",
   "execution_count": null,
   "id": "c4de1669",
   "metadata": {},
   "outputs": [],
   "source": [
    "Task 31"
   ]
  },
  {
   "cell_type": "code",
   "execution_count": 1,
   "id": "4fdfa34c",
   "metadata": {},
   "outputs": [],
   "source": [
    "import turtle\n",
    "t = turtle.Turtle()\n",
    "t.goto(0,0)\n",
    "t.pensize(2)\n",
    "t.pencolor(\"red\")\n",
    "t.fillcolor(\"blue\")\n",
    "\n",
    "for _ in range(8):\n",
    "    for _ in range(6):\n",
    "        t.fd(100)\n",
    "        t.lt(60)\n",
    "    t.lt(360/8)"
   ]
  },
  {
   "cell_type": "code",
   "execution_count": null,
   "id": "d562440a",
   "metadata": {},
   "outputs": [],
   "source": [
    "Task 32"
   ]
  },
  {
   "cell_type": "code",
   "execution_count": 1,
   "id": "b29570b5",
   "metadata": {},
   "outputs": [],
   "source": [
    "import turtle\n",
    "t = turtle.Turtle()\n",
    "t.goto(0,0)\n",
    "t.pensize(2)\n",
    "t.pencolor(\"red\")\n",
    "\n",
    "for i in range(12):\n",
    "    for i in range(6):\n",
    "        t.fd(100)\n",
    "        t.lt(60)\n",
    "    t.lt(360/12)"
   ]
  },
  {
   "cell_type": "code",
   "execution_count": null,
   "id": "0752345b",
   "metadata": {},
   "outputs": [],
   "source": [
    "Task 33"
   ]
  },
  {
   "cell_type": "code",
   "execution_count": 1,
   "id": "b7e24757",
   "metadata": {},
   "outputs": [],
   "source": [
    "import turtle\n",
    "t = turtle.Turtle()\n",
    "t.goto(0,0)\n",
    "t.pencolor(\"red\")\n",
    "t.pensize(2)\n",
    "\n",
    "for i in range(20):\n",
    "    for i in range(6):\n",
    "        t.fd(100)\n",
    "        t.lt(60)\n",
    "    t.lt(360/20)"
   ]
  },
  {
   "cell_type": "code",
   "execution_count": null,
   "id": "9353d7b9",
   "metadata": {},
   "outputs": [],
   "source": [
    "Task 34"
   ]
  },
  {
   "cell_type": "code",
   "execution_count": 1,
   "id": "d2afe992",
   "metadata": {},
   "outputs": [],
   "source": [
    "import turtle\n",
    "t = turtle.Turtle()\n",
    "t.goto(0,0)\n",
    "t.pencolor(\"red\")\n",
    "t.pensize(2)\n",
    "\n",
    "for i in range(8):\n",
    "    t.fd(100)\n",
    "    t.lt(45)"
   ]
  },
  {
   "cell_type": "code",
   "execution_count": null,
   "id": "57b4cc51",
   "metadata": {},
   "outputs": [],
   "source": [
    "Task 35"
   ]
  },
  {
   "cell_type": "code",
   "execution_count": 1,
   "id": "73439f4f",
   "metadata": {},
   "outputs": [],
   "source": [
    "import turtle\n",
    "t = turtle.Turtle()\n",
    "t.goto(0,0)\n",
    "t.pencolor(\"red\")\n",
    "t.pensize (3)\n",
    "\n",
    "for i in range(4):\n",
    "    for i in range(8):\n",
    "        t.fd(100)\n",
    "        t.rt(45)\n",
    "    t.rt(360/4)"
   ]
  },
  {
   "cell_type": "code",
   "execution_count": null,
   "id": "0fc6ddd8",
   "metadata": {},
   "outputs": [],
   "source": [
    "Task 36"
   ]
  },
  {
   "cell_type": "code",
   "execution_count": 1,
   "id": "3a194dd2",
   "metadata": {},
   "outputs": [],
   "source": [
    "import turtle\n",
    "t = turtle.Turtle()\n",
    "t.goto(0,0)\n",
    "t.pencolor(\"red\")\n",
    "t.pensize(3)\n",
    "\n",
    "for i in range(6):\n",
    "    for i in range(8):\n",
    "        t.fd(100)\n",
    "        t.lt(45)\n",
    "    t.lt(360/6)"
   ]
  },
  {
   "cell_type": "code",
   "execution_count": null,
   "id": "6d9a84ff",
   "metadata": {},
   "outputs": [],
   "source": [
    "Task 37"
   ]
  },
  {
   "cell_type": "code",
   "execution_count": 1,
   "id": "a381f5df",
   "metadata": {},
   "outputs": [],
   "source": [
    "import turtle\n",
    "t = turtle.Turtle()\n",
    "t.goto(0,0)\n",
    "t.pencolor(\"red\")\n",
    "t.pensize(3)\n",
    "\n",
    "for i in range(10):\n",
    "    for i in range(8):\n",
    "        t.fd(100)\n",
    "        t.lt(45)\n",
    "    t.lt(360/10)"
   ]
  },
  {
   "cell_type": "code",
   "execution_count": null,
   "id": "3a5ecced",
   "metadata": {},
   "outputs": [],
   "source": [
    "Task 38"
   ]
  },
  {
   "cell_type": "code",
   "execution_count": 1,
   "id": "d9fe801b",
   "metadata": {},
   "outputs": [],
   "source": [
    "import turtle\n",
    "t = turtle.Turtle()\n",
    "t.goto(0,0)\n",
    "t.pencolor(\"red\")\n",
    "t.pensize(3)\n",
    "\n",
    "for i in range(20):\n",
    "    for i in range(8):\n",
    "        t.fd(100)\n",
    "        t.lt(45)\n",
    "    t.lt(360/20)"
   ]
  },
  {
   "cell_type": "code",
   "execution_count": null,
   "id": "b12ef5b1",
   "metadata": {},
   "outputs": [],
   "source": [
    "Task 39"
   ]
  },
  {
   "cell_type": "code",
   "execution_count": null,
   "id": "db68d58c",
   "metadata": {},
   "outputs": [],
   "source": [
    "import turtle\n",
    "t = turtle.Turtle()\n",
    "t.goto(0,0)\n",
    "t.pencolor(\"red\")\n",
    "t.speed(0)\n",
    "pensize = 5\n",
    "t.penup()\n",
    "\n",
    "for i in range(720):\n",
    "    t.fd(100)\n",
    "    t.pendown()\n",
    "    t.fd(pensize)\n",
    "    t.penup()\n",
    "    t.bk(100 + pensize)\n",
    "    t.rt(0.5)\n"
   ]
  },
  {
   "cell_type": "code",
   "execution_count": 3,
   "id": "27abbd1b",
   "metadata": {},
   "outputs": [],
   "source": [
    "import turtle\n",
    "t = turtle.Turtle()\n",
    "t.goto(0,0)\n",
    "t.pensize(3)\n",
    "t.pencolor(\"red\")\n",
    "t.setheading(180)\n",
    "t.circle(100)"
   ]
  },
  {
   "cell_type": "code",
   "execution_count": null,
   "id": "32e2087f",
   "metadata": {},
   "outputs": [],
   "source": [
    "Task 40"
   ]
  },
  {
   "cell_type": "code",
   "execution_count": 1,
   "id": "af4ad5a4",
   "metadata": {},
   "outputs": [],
   "source": [
    "import turtle\n",
    "t = turtle.Turtle()\n",
    "t.goto(0,0)\n",
    "t.pensize(3)\n",
    "t.pencolor(\"red\")\n",
    "\n",
    "for i in range(4):\n",
    "    t.circle(100)\n",
    "    t.lt(360/4)"
   ]
  },
  {
   "cell_type": "code",
   "execution_count": null,
   "id": "d1d9d1d3",
   "metadata": {},
   "outputs": [],
   "source": [
    "Task 41"
   ]
  },
  {
   "cell_type": "code",
   "execution_count": 1,
   "id": "3ce6f6a6",
   "metadata": {},
   "outputs": [],
   "source": [
    "import turtle\n",
    "t = turtle.Turtle()\n",
    "t.goto(0,0)\n",
    "t.pensize(3)\n",
    "t.pencolor(\"red\")\n",
    "\n",
    "for i in range(6):\n",
    "    t.circle(100)\n",
    "    t.lt(360/6)"
   ]
  },
  {
   "cell_type": "code",
   "execution_count": null,
   "id": "341c3c9a",
   "metadata": {},
   "outputs": [],
   "source": [
    "Task 42"
   ]
  },
  {
   "cell_type": "code",
   "execution_count": 1,
   "id": "5bfd3b2d",
   "metadata": {},
   "outputs": [],
   "source": [
    "import turtle\n",
    "t = turtle.Turtle()\n",
    "t.goto(0,0)\n",
    "t.pensize(3)\n",
    "t.pencolor(\"red\")\n",
    "\n",
    "for i in range(10):\n",
    "    t.circle(100)\n",
    "    t.lt(360/10)"
   ]
  },
  {
   "cell_type": "code",
   "execution_count": null,
   "id": "4c2c33d9",
   "metadata": {},
   "outputs": [],
   "source": [
    "Task 43"
   ]
  },
  {
   "cell_type": "code",
   "execution_count": 1,
   "id": "c27d7004",
   "metadata": {},
   "outputs": [],
   "source": [
    "import turtle\n",
    "t = turtle.Turtle()\n",
    "t.goto(0,0)\n",
    "t.speed(0)\n",
    "t.pensize(3)\n",
    "t.pencolor(\"red\")\n",
    "\n",
    "for i in range(4):\n",
    "    for i in range(2):\n",
    "        for i in range(90):\n",
    "            t.fd(2*3.14*200/360)\n",
    "            t.lt(1)\n",
    "        t.lt(90)\n",
    "    t.lt(90)"
   ]
  },
  {
   "cell_type": "code",
   "execution_count": 1,
   "id": "c22df358",
   "metadata": {},
   "outputs": [],
   "source": [
    "import turtle\n",
    "t = turtle.Turtle()\n",
    "t.speed(0)\n",
    "t.penup()\n",
    "t.goto(-150,-150)\n",
    "t.pendown()\n",
    "t.pensize(3)\n",
    "t.pencolor(\"red\")\n",
    "\n",
    "for i in range(4):\n",
    "    for i in range(180):\n",
    "        t.fd(2*3.14*200/360)\n",
    "        t.lt(1)\n",
    "    t.lt(90)"
   ]
  },
  {
   "cell_type": "code",
   "execution_count": null,
   "id": "1c5dd8f1",
   "metadata": {},
   "outputs": [],
   "source": [
    "Task 44"
   ]
  },
  {
   "cell_type": "code",
   "execution_count": null,
   "id": "947d5bf6",
   "metadata": {},
   "outputs": [],
   "source": [
    "import turtle\n",
    "t = turtle.Turtle()\n",
    "t.penup()\n",
    "t.goto(-150,-100)\n",
    "t.pendown()\n",
    "t.pensize(3)\n",
    "t.pencolor(\"red\")\n",
    "t.speed(0)\n",
    "\n",
    "for i in range(6):\n",
    "    for i in range(180):\n",
    "        t.fd(2*3.14*100/360)\n",
    "        t.lt(1)\n",
    "    t.lt(120)"
   ]
  },
  {
   "cell_type": "code",
   "execution_count": null,
   "id": "1aaddeeb",
   "metadata": {},
   "outputs": [],
   "source": [
    "Task 45"
   ]
  },
  {
   "cell_type": "code",
   "execution_count": 1,
   "id": "90ec91c8",
   "metadata": {},
   "outputs": [],
   "source": [
    "import turtle\n",
    "t = turtle.Turtle()\n",
    "t.speed(0)\n",
    "t.pensize(3)\n",
    "t.pencolor(\"red\")\n",
    "t.penup()\n",
    "t.goto(-150,150)\n",
    "t.setheading(-90)\n",
    "t.pendown()\n",
    "\n",
    "for i in range(3):\n",
    "    for i in range(180):\n",
    "        t.fd(2*3.14*150/360)\n",
    "        t.lt(1)\n",
    "    t.lt(60)"
   ]
  },
  {
   "cell_type": "code",
   "execution_count": null,
   "id": "8b32ca5f",
   "metadata": {},
   "outputs": [],
   "source": [
    "Task 46"
   ]
  },
  {
   "cell_type": "code",
   "execution_count": 1,
   "id": "db94baf8",
   "metadata": {},
   "outputs": [],
   "source": [
    "import turtle\n",
    "t = turtle.Turtle()\n",
    "t.penup()\n",
    "t.goto(-100,200)\n",
    "t.pendown()\n",
    "t.pensize(3)\n",
    "t.speed(0)\n",
    "t.pencolor(\"red\")\n",
    "C = 900\n",
    "d = C/ 3.14\n",
    "\n",
    "for i in range(5):\n",
    "    t.fd(d)\n",
    "    t.rt(90)\n",
    "    for i in range(180):\n",
    "        t.fd(2*3.14*(d/2)/360)\n",
    "        t.rt(1)\n",
    "    t.rt(90)\n",
    "    t.fd(d)\n",
    "    t.rt(72)"
   ]
  },
  {
   "cell_type": "code",
   "execution_count": null,
   "id": "7d653911",
   "metadata": {},
   "outputs": [],
   "source": [
    "Task 47"
   ]
  },
  {
   "cell_type": "code",
   "execution_count": 2,
   "id": "317e1bde",
   "metadata": {},
   "outputs": [],
   "source": [
    "import turtle\n",
    "t = turtle.Turtle()\n",
    "t.goto(0,0)\n",
    "t.pensize(3)\n",
    "t.pencolor(\"red\")\n",
    "C = 1000 #C là chu vi đường tròn\n",
    "R = (C/3.14)/ 2 #R là bán kính đường tròn, có công thức là C = 3.14\n",
    "\n",
    "for i in range(20):\n",
    "    t.fd(R)\n",
    "    t.rt(90)\n",
    "    for i in range(18):\n",
    "        t.fd(2*3.14*R/360)\n",
    "        t.rt(1)\n",
    "    t.goto(0,0)\n",
    "    t.rt(360/20)"
   ]
  },
  {
   "cell_type": "code",
   "execution_count": null,
   "id": "36b01875",
   "metadata": {},
   "outputs": [],
   "source": [
    "Task 48"
   ]
  },
  {
   "cell_type": "code",
   "execution_count": null,
   "id": "6be89af5",
   "metadata": {},
   "outputs": [],
   "source": []
  },
  {
   "cell_type": "code",
   "execution_count": null,
   "id": "6044ceac",
   "metadata": {},
   "outputs": [],
   "source": [
    "Task 49"
   ]
  },
  {
   "cell_type": "code",
   "execution_count": null,
   "id": "b8c6a8a9",
   "metadata": {},
   "outputs": [],
   "source": []
  },
  {
   "cell_type": "code",
   "execution_count": null,
   "id": "4e7d5c0f",
   "metadata": {},
   "outputs": [],
   "source": [
    "Task 50"
   ]
  },
  {
   "cell_type": "code",
   "execution_count": null,
   "id": "7937fcc1",
   "metadata": {},
   "outputs": [],
   "source": []
  },
  {
   "cell_type": "code",
   "execution_count": null,
   "id": "061e9c4c",
   "metadata": {},
   "outputs": [],
   "source": [
    "Task "
   ]
  },
  {
   "cell_type": "code",
   "execution_count": null,
   "id": "6f99e5f7",
   "metadata": {},
   "outputs": [],
   "source": []
  },
  {
   "cell_type": "code",
   "execution_count": null,
   "id": "6b70f4a8",
   "metadata": {},
   "outputs": [],
   "source": [
    "Task "
   ]
  },
  {
   "cell_type": "code",
   "execution_count": null,
   "id": "b3b2d174",
   "metadata": {},
   "outputs": [],
   "source": []
  },
  {
   "cell_type": "code",
   "execution_count": null,
   "id": "46e5f6a6",
   "metadata": {},
   "outputs": [],
   "source": [
    "Task "
   ]
  },
  {
   "cell_type": "code",
   "execution_count": null,
   "id": "0a8d8a8c",
   "metadata": {},
   "outputs": [],
   "source": []
  },
  {
   "cell_type": "code",
   "execution_count": null,
   "id": "bd5f030e",
   "metadata": {},
   "outputs": [],
   "source": [
    "Task "
   ]
  },
  {
   "cell_type": "code",
   "execution_count": null,
   "id": "510623a8",
   "metadata": {},
   "outputs": [],
   "source": []
  },
  {
   "cell_type": "code",
   "execution_count": null,
   "id": "011b4b15",
   "metadata": {},
   "outputs": [],
   "source": [
    "Task "
   ]
  },
  {
   "cell_type": "code",
   "execution_count": null,
   "id": "1e75acd3",
   "metadata": {},
   "outputs": [],
   "source": []
  },
  {
   "cell_type": "code",
   "execution_count": null,
   "id": "8e063958",
   "metadata": {},
   "outputs": [],
   "source": [
    "Task "
   ]
  },
  {
   "cell_type": "code",
   "execution_count": null,
   "id": "673147f4",
   "metadata": {},
   "outputs": [],
   "source": []
  },
  {
   "cell_type": "code",
   "execution_count": null,
   "id": "bb660ee2",
   "metadata": {},
   "outputs": [],
   "source": [
    "Task "
   ]
  },
  {
   "cell_type": "code",
   "execution_count": null,
   "id": "eb396c0c",
   "metadata": {},
   "outputs": [],
   "source": []
  },
  {
   "cell_type": "code",
   "execution_count": null,
   "id": "1dbdeafd",
   "metadata": {},
   "outputs": [],
   "source": [
    "Task "
   ]
  },
  {
   "cell_type": "code",
   "execution_count": null,
   "id": "5cf9268b",
   "metadata": {},
   "outputs": [],
   "source": []
  },
  {
   "cell_type": "code",
   "execution_count": null,
   "id": "284c2360",
   "metadata": {},
   "outputs": [],
   "source": [
    "Task "
   ]
  },
  {
   "cell_type": "code",
   "execution_count": null,
   "id": "7bfa9bab",
   "metadata": {},
   "outputs": [],
   "source": []
  },
  {
   "cell_type": "code",
   "execution_count": null,
   "id": "2eaa1ebc",
   "metadata": {},
   "outputs": [],
   "source": [
    "Task "
   ]
  },
  {
   "cell_type": "code",
   "execution_count": null,
   "id": "985dec58",
   "metadata": {},
   "outputs": [],
   "source": []
  },
  {
   "cell_type": "code",
   "execution_count": null,
   "id": "afbaeb31",
   "metadata": {},
   "outputs": [],
   "source": [
    "Task "
   ]
  },
  {
   "cell_type": "code",
   "execution_count": null,
   "id": "abb6d094",
   "metadata": {},
   "outputs": [],
   "source": []
  },
  {
   "cell_type": "code",
   "execution_count": null,
   "id": "62f418f0",
   "metadata": {},
   "outputs": [],
   "source": [
    "Task "
   ]
  },
  {
   "cell_type": "code",
   "execution_count": null,
   "id": "43f56a20",
   "metadata": {},
   "outputs": [],
   "source": []
  },
  {
   "cell_type": "code",
   "execution_count": null,
   "id": "91e011b1",
   "metadata": {},
   "outputs": [],
   "source": [
    "Task "
   ]
  },
  {
   "cell_type": "code",
   "execution_count": null,
   "id": "b2be282b",
   "metadata": {},
   "outputs": [],
   "source": []
  },
  {
   "cell_type": "code",
   "execution_count": null,
   "id": "3348257a",
   "metadata": {},
   "outputs": [],
   "source": [
    "Task "
   ]
  },
  {
   "cell_type": "code",
   "execution_count": null,
   "id": "fb12885a",
   "metadata": {},
   "outputs": [],
   "source": []
  },
  {
   "cell_type": "code",
   "execution_count": null,
   "id": "85207ab8",
   "metadata": {},
   "outputs": [],
   "source": [
    "Task "
   ]
  },
  {
   "cell_type": "code",
   "execution_count": null,
   "id": "7c93e277",
   "metadata": {},
   "outputs": [],
   "source": []
  },
  {
   "cell_type": "code",
   "execution_count": null,
   "id": "5f5a4342",
   "metadata": {},
   "outputs": [],
   "source": [
    "Task "
   ]
  },
  {
   "cell_type": "code",
   "execution_count": null,
   "id": "b710ae5c",
   "metadata": {},
   "outputs": [],
   "source": []
  },
  {
   "cell_type": "code",
   "execution_count": null,
   "id": "d6465e64",
   "metadata": {},
   "outputs": [],
   "source": [
    "Task "
   ]
  },
  {
   "cell_type": "code",
   "execution_count": null,
   "id": "6697d9b2",
   "metadata": {},
   "outputs": [],
   "source": []
  },
  {
   "cell_type": "code",
   "execution_count": null,
   "id": "75e6ebd5",
   "metadata": {},
   "outputs": [],
   "source": [
    "Task "
   ]
  },
  {
   "cell_type": "code",
   "execution_count": null,
   "id": "e91f5945",
   "metadata": {},
   "outputs": [],
   "source": []
  },
  {
   "cell_type": "code",
   "execution_count": null,
   "id": "acdcc2a5",
   "metadata": {},
   "outputs": [],
   "source": [
    "Task "
   ]
  },
  {
   "cell_type": "code",
   "execution_count": null,
   "id": "1bc266b2",
   "metadata": {},
   "outputs": [],
   "source": []
  },
  {
   "cell_type": "code",
   "execution_count": null,
   "id": "f162ca2f",
   "metadata": {},
   "outputs": [],
   "source": [
    "Task "
   ]
  },
  {
   "cell_type": "code",
   "execution_count": null,
   "id": "43451c83",
   "metadata": {},
   "outputs": [],
   "source": []
  },
  {
   "cell_type": "code",
   "execution_count": null,
   "id": "87743be1",
   "metadata": {},
   "outputs": [],
   "source": [
    "Task "
   ]
  },
  {
   "cell_type": "code",
   "execution_count": null,
   "id": "86f1a189",
   "metadata": {},
   "outputs": [],
   "source": []
  },
  {
   "cell_type": "code",
   "execution_count": null,
   "id": "be1c5137",
   "metadata": {},
   "outputs": [],
   "source": [
    "Task "
   ]
  },
  {
   "cell_type": "code",
   "execution_count": null,
   "id": "bf7b0ec2",
   "metadata": {},
   "outputs": [],
   "source": []
  },
  {
   "cell_type": "code",
   "execution_count": null,
   "id": "198766a8",
   "metadata": {},
   "outputs": [],
   "source": [
    "Task "
   ]
  },
  {
   "cell_type": "code",
   "execution_count": null,
   "id": "dbd97818",
   "metadata": {},
   "outputs": [],
   "source": []
  },
  {
   "cell_type": "code",
   "execution_count": null,
   "id": "9c83d718",
   "metadata": {},
   "outputs": [],
   "source": [
    "Task "
   ]
  },
  {
   "cell_type": "code",
   "execution_count": null,
   "id": "2fe30754",
   "metadata": {},
   "outputs": [],
   "source": []
  },
  {
   "cell_type": "code",
   "execution_count": null,
   "id": "221fbdc2",
   "metadata": {},
   "outputs": [],
   "source": [
    "Task "
   ]
  },
  {
   "cell_type": "code",
   "execution_count": null,
   "id": "1f5480ba",
   "metadata": {},
   "outputs": [],
   "source": []
  },
  {
   "cell_type": "code",
   "execution_count": null,
   "id": "d324ce33",
   "metadata": {},
   "outputs": [],
   "source": [
    "Task "
   ]
  },
  {
   "cell_type": "code",
   "execution_count": null,
   "id": "1ca4c5f1",
   "metadata": {},
   "outputs": [],
   "source": []
  },
  {
   "cell_type": "code",
   "execution_count": null,
   "id": "284b2657",
   "metadata": {},
   "outputs": [],
   "source": [
    "Task "
   ]
  },
  {
   "cell_type": "code",
   "execution_count": null,
   "id": "2ab8a76f",
   "metadata": {},
   "outputs": [],
   "source": []
  },
  {
   "cell_type": "code",
   "execution_count": null,
   "id": "40630b96",
   "metadata": {},
   "outputs": [],
   "source": [
    "Task "
   ]
  },
  {
   "cell_type": "code",
   "execution_count": null,
   "id": "a96d3520",
   "metadata": {},
   "outputs": [],
   "source": []
  },
  {
   "cell_type": "code",
   "execution_count": null,
   "id": "ea2f54ed",
   "metadata": {},
   "outputs": [],
   "source": [
    "Task "
   ]
  },
  {
   "cell_type": "code",
   "execution_count": null,
   "id": "e7bd25a9",
   "metadata": {},
   "outputs": [],
   "source": []
  },
  {
   "cell_type": "code",
   "execution_count": null,
   "id": "265a64fd",
   "metadata": {},
   "outputs": [],
   "source": [
    "Task "
   ]
  },
  {
   "cell_type": "code",
   "execution_count": null,
   "id": "ad25b902",
   "metadata": {},
   "outputs": [],
   "source": []
  },
  {
   "cell_type": "code",
   "execution_count": null,
   "id": "ae2ec2bc",
   "metadata": {},
   "outputs": [],
   "source": [
    "Task "
   ]
  },
  {
   "cell_type": "code",
   "execution_count": null,
   "id": "b7c323e4",
   "metadata": {},
   "outputs": [],
   "source": []
  },
  {
   "cell_type": "code",
   "execution_count": null,
   "id": "8abb41bb",
   "metadata": {},
   "outputs": [],
   "source": [
    "Task "
   ]
  },
  {
   "cell_type": "code",
   "execution_count": null,
   "id": "6c549d02",
   "metadata": {},
   "outputs": [],
   "source": []
  },
  {
   "cell_type": "code",
   "execution_count": null,
   "id": "797d00c0",
   "metadata": {},
   "outputs": [],
   "source": [
    "Task "
   ]
  },
  {
   "cell_type": "code",
   "execution_count": null,
   "id": "769b834c",
   "metadata": {},
   "outputs": [],
   "source": []
  },
  {
   "cell_type": "code",
   "execution_count": null,
   "id": "1a3ce42d",
   "metadata": {},
   "outputs": [],
   "source": [
    "Task "
   ]
  },
  {
   "cell_type": "code",
   "execution_count": null,
   "id": "b0a1b351",
   "metadata": {},
   "outputs": [],
   "source": []
  },
  {
   "cell_type": "code",
   "execution_count": null,
   "id": "ef961680",
   "metadata": {},
   "outputs": [],
   "source": [
    "Task "
   ]
  },
  {
   "cell_type": "code",
   "execution_count": null,
   "id": "b83eae92",
   "metadata": {},
   "outputs": [],
   "source": []
  },
  {
   "cell_type": "code",
   "execution_count": null,
   "id": "5136640a",
   "metadata": {},
   "outputs": [],
   "source": [
    "Task "
   ]
  },
  {
   "cell_type": "code",
   "execution_count": null,
   "id": "57c821b2",
   "metadata": {},
   "outputs": [],
   "source": []
  },
  {
   "cell_type": "code",
   "execution_count": null,
   "id": "764bcb55",
   "metadata": {},
   "outputs": [],
   "source": [
    "Task "
   ]
  },
  {
   "cell_type": "code",
   "execution_count": null,
   "id": "f994f6b7",
   "metadata": {},
   "outputs": [],
   "source": []
  },
  {
   "cell_type": "code",
   "execution_count": null,
   "id": "efd1fcc3",
   "metadata": {},
   "outputs": [],
   "source": [
    "Task "
   ]
  },
  {
   "cell_type": "code",
   "execution_count": null,
   "id": "352f538b",
   "metadata": {},
   "outputs": [],
   "source": []
  },
  {
   "cell_type": "code",
   "execution_count": null,
   "id": "8a2a93a8",
   "metadata": {},
   "outputs": [],
   "source": [
    "Task "
   ]
  },
  {
   "cell_type": "code",
   "execution_count": null,
   "id": "ee154fe5",
   "metadata": {},
   "outputs": [],
   "source": []
  },
  {
   "cell_type": "code",
   "execution_count": null,
   "id": "2da4088c",
   "metadata": {},
   "outputs": [],
   "source": [
    "Task "
   ]
  },
  {
   "cell_type": "code",
   "execution_count": null,
   "id": "a61a963a",
   "metadata": {},
   "outputs": [],
   "source": []
  }
 ],
 "metadata": {
  "kernelspec": {
   "display_name": "Python 3 (ipykernel)",
   "language": "python",
   "name": "python3"
  },
  "language_info": {
   "codemirror_mode": {
    "name": "ipython",
    "version": 3
   },
   "file_extension": ".py",
   "mimetype": "text/x-python",
   "name": "python",
   "nbconvert_exporter": "python",
   "pygments_lexer": "ipython3",
   "version": "3.10.6"
  }
 },
 "nbformat": 4,
 "nbformat_minor": 5
}
