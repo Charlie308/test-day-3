{
 "cells": [
  {
   "cell_type": "code",
   "execution_count": null,
   "id": "605f6fb3",
   "metadata": {},
   "outputs": [],
   "source": [
    "task 1"
   ]
  },
  {
   "cell_type": "code",
   "execution_count": 2,
   "id": "092769c3",
   "metadata": {},
   "outputs": [],
   "source": [
    "import turtle\n",
    "t = turtle.Turtle()\n",
    "t.speed(1)\n",
    "t.color(\"red\",\"blue\")\n",
    "\n",
    "for i in range(3):\n",
    "    t.fd(200)\n",
    "    t.lt(120)\n",
    "   "
   ]
  },
  {
   "cell_type": "code",
   "execution_count": null,
   "id": "2ddcffbf",
   "metadata": {},
   "outputs": [],
   "source": [
    "Task 2"
   ]
  },
  {
   "cell_type": "code",
   "execution_count": 1,
   "id": "b3cac348",
   "metadata": {},
   "outputs": [],
   "source": [
    "import turtle\n",
    "t = turtle.Turtle()\n",
    "t.color(\"red\",\"blue\")\n",
    "t.pensize(5)\n",
    "\n",
    "for i in range(3):\n",
    "    t.lt(60)\n",
    "    for i in range(3):\n",
    "        t.fd(200)\n",
    "        t.lt(120)\n",
    "    t.lt(60)\n",
    "    "
   ]
  },
  {
   "cell_type": "code",
   "execution_count": null,
   "id": "81ec9525",
   "metadata": {},
   "outputs": [],
   "source": [
    "Task 3"
   ]
  },
  {
   "cell_type": "code",
   "execution_count": 1,
   "id": "649220e1",
   "metadata": {},
   "outputs": [],
   "source": [
    "import turtle\n",
    "t = turtle.Turtle()\n",
    "t.color(\"red\",\"blue\")\n",
    "t.pensize(3)\n",
    "\n",
    "for i in range(4):\n",
    "    t.lt(30)\n",
    "    for i in range(3):\n",
    "        t.fd(200)\n",
    "        t.lt(120)\n",
    "    t.lt(60)\n",
    "    "
   ]
  },
  {
   "cell_type": "code",
   "execution_count": null,
   "id": "8537fd34",
   "metadata": {},
   "outputs": [],
   "source": [
    "Task 4"
   ]
  },
  {
   "cell_type": "code",
   "execution_count": 2,
   "id": "53919764",
   "metadata": {},
   "outputs": [],
   "source": [
    "import turtle\n",
    "t = turtle.Turtle()\n",
    "t.pensize(3)\n",
    "t.color(\"red\",\"blue\")\n",
    "\n",
    "for i in range(6):\n",
    "    for i in range(3):\n",
    "        t.fd(200)\n",
    "        t.lt(120)\n",
    "    t.lt(60)"
   ]
  },
  {
   "cell_type": "code",
   "execution_count": null,
   "id": "96d7cbb5",
   "metadata": {},
   "outputs": [],
   "source": [
    "Task 5"
   ]
  },
  {
   "cell_type": "code",
   "execution_count": 1,
   "id": "59c019e1",
   "metadata": {},
   "outputs": [],
   "source": [
    "import turtle\n",
    "t = turtle.Turtle()\n",
    "t.pensize(3)\n",
    "t.speed(0)\n",
    "\n",
    "t.color(\"red\",\"blue\")\n",
    "for i in range(6):\n",
    "    for i in range(3):\n",
    "        t.fd(200)\n",
    "        t.lt(120)\n",
    "    t.lt(60)\n",
    "\n",
    "t.color(\"blue\",\"blue\")\n",
    "t.lt(30)\n",
    "for i in range(6):\n",
    "    for i in range(3):\n",
    "        t.fd(200)\n",
    "        t.lt(120)\n",
    "    t.lt(60)\n"
   ]
  },
  {
   "cell_type": "code",
   "execution_count": null,
   "id": "bdc26636",
   "metadata": {},
   "outputs": [],
   "source": [
    "Task 6"
   ]
  },
  {
   "cell_type": "code",
   "execution_count": 1,
   "id": "2468be86",
   "metadata": {},
   "outputs": [],
   "source": [
    "import turtle\n",
    "t = turtle.Turtle()\n",
    "t.penup()\n",
    "t.goto(0,-100)\n",
    "t.pendown()\n",
    "t.color(\"red\",\"blue\")\n",
    "t.pensize(3)\n",
    "t.speed(3)\n",
    "\n",
    "for i in range(8):\n",
    "    for i in range(3):\n",
    "        t.fd(100)\n",
    "        t.rt(120)\n",
    "    t.fd(100)\n",
    "    t.lt(45)\n",
    "    "
   ]
  },
  {
   "cell_type": "code",
   "execution_count": null,
   "id": "b84cb810",
   "metadata": {},
   "outputs": [],
   "source": [
    "Task 7"
   ]
  },
  {
   "cell_type": "code",
   "execution_count": 1,
   "id": "c7e872dc",
   "metadata": {},
   "outputs": [],
   "source": [
    "import turtle\n",
    "t = turtle.Turtle()\n",
    "t.penup()\n",
    "t.goto(0,-100)\n",
    "t.pendown()\n",
    "t.pensize(3)\n",
    "t.color(\"red\",\"blue\")\n",
    "t.speed(0)\n",
    "\n",
    "for i in range(8):\n",
    "    t.begin_fill()\n",
    "    for i in range(3):\n",
    "        t.fd(100)\n",
    "        t.lt(120)\n",
    "    t.end_fill()\n",
    "    t.fd(100)\n",
    "    t.lt(45)"
   ]
  },
  {
   "cell_type": "code",
   "execution_count": null,
   "id": "7de6327a",
   "metadata": {},
   "outputs": [],
   "source": []
  },
  {
   "cell_type": "code",
   "execution_count": null,
   "id": "cea2a6b7",
   "metadata": {},
   "outputs": [],
   "source": []
  },
  {
   "cell_type": "code",
   "execution_count": null,
   "id": "912e039a",
   "metadata": {},
   "outputs": [],
   "source": []
  },
  {
   "cell_type": "code",
   "execution_count": null,
   "id": "92ada307",
   "metadata": {},
   "outputs": [],
   "source": []
  },
  {
   "cell_type": "code",
   "execution_count": null,
   "id": "fcf5a2be",
   "metadata": {},
   "outputs": [],
   "source": []
  },
  {
   "cell_type": "code",
   "execution_count": null,
   "id": "2cacff3b",
   "metadata": {},
   "outputs": [],
   "source": []
  },
  {
   "cell_type": "code",
   "execution_count": null,
   "id": "50269cc2",
   "metadata": {},
   "outputs": [],
   "source": []
  },
  {
   "cell_type": "code",
   "execution_count": null,
   "id": "0993a23f",
   "metadata": {},
   "outputs": [],
   "source": []
  },
  {
   "cell_type": "code",
   "execution_count": null,
   "id": "1e0c07f0",
   "metadata": {},
   "outputs": [],
   "source": []
  },
  {
   "cell_type": "code",
   "execution_count": null,
   "id": "ee7a00e6",
   "metadata": {},
   "outputs": [],
   "source": []
  },
  {
   "cell_type": "code",
   "execution_count": null,
   "id": "387f6c34",
   "metadata": {},
   "outputs": [],
   "source": []
  },
  {
   "cell_type": "code",
   "execution_count": null,
   "id": "34120260",
   "metadata": {},
   "outputs": [],
   "source": []
  },
  {
   "cell_type": "code",
   "execution_count": null,
   "id": "b70e00b4",
   "metadata": {},
   "outputs": [],
   "source": []
  },
  {
   "cell_type": "code",
   "execution_count": null,
   "id": "2551218f",
   "metadata": {},
   "outputs": [],
   "source": []
  },
  {
   "cell_type": "code",
   "execution_count": null,
   "id": "8c79eeca",
   "metadata": {},
   "outputs": [],
   "source": []
  },
  {
   "cell_type": "code",
   "execution_count": null,
   "id": "1df2582f",
   "metadata": {},
   "outputs": [],
   "source": []
  },
  {
   "cell_type": "code",
   "execution_count": null,
   "id": "08b22a4e",
   "metadata": {},
   "outputs": [],
   "source": []
  },
  {
   "cell_type": "code",
   "execution_count": null,
   "id": "5abe5e5b",
   "metadata": {},
   "outputs": [],
   "source": []
  },
  {
   "cell_type": "code",
   "execution_count": null,
   "id": "69fb43db",
   "metadata": {},
   "outputs": [],
   "source": []
  },
  {
   "cell_type": "code",
   "execution_count": null,
   "id": "e9a59174",
   "metadata": {},
   "outputs": [],
   "source": []
  },
  {
   "cell_type": "code",
   "execution_count": null,
   "id": "515b0f5d",
   "metadata": {},
   "outputs": [],
   "source": []
  },
  {
   "cell_type": "code",
   "execution_count": null,
   "id": "41f46ac1",
   "metadata": {},
   "outputs": [],
   "source": []
  },
  {
   "cell_type": "code",
   "execution_count": null,
   "id": "bfb74e5d",
   "metadata": {},
   "outputs": [],
   "source": []
  },
  {
   "cell_type": "code",
   "execution_count": null,
   "id": "50863286",
   "metadata": {},
   "outputs": [],
   "source": []
  },
  {
   "cell_type": "code",
   "execution_count": null,
   "id": "56a03df2",
   "metadata": {},
   "outputs": [],
   "source": []
  },
  {
   "cell_type": "code",
   "execution_count": null,
   "id": "a451cf86",
   "metadata": {},
   "outputs": [],
   "source": []
  },
  {
   "cell_type": "code",
   "execution_count": null,
   "id": "401188b4",
   "metadata": {},
   "outputs": [],
   "source": []
  },
  {
   "cell_type": "code",
   "execution_count": null,
   "id": "0063d7ec",
   "metadata": {},
   "outputs": [],
   "source": []
  },
  {
   "cell_type": "code",
   "execution_count": null,
   "id": "d7f1bce6",
   "metadata": {},
   "outputs": [],
   "source": []
  },
  {
   "cell_type": "code",
   "execution_count": null,
   "id": "c12ce53e",
   "metadata": {},
   "outputs": [],
   "source": []
  },
  {
   "cell_type": "code",
   "execution_count": null,
   "id": "35d2134a",
   "metadata": {},
   "outputs": [],
   "source": []
  },
  {
   "cell_type": "code",
   "execution_count": null,
   "id": "7199e74f",
   "metadata": {},
   "outputs": [],
   "source": []
  },
  {
   "cell_type": "code",
   "execution_count": null,
   "id": "6602342a",
   "metadata": {},
   "outputs": [],
   "source": []
  },
  {
   "cell_type": "code",
   "execution_count": null,
   "id": "44f6dde1",
   "metadata": {},
   "outputs": [],
   "source": []
  },
  {
   "cell_type": "code",
   "execution_count": null,
   "id": "cbaf6f68",
   "metadata": {},
   "outputs": [],
   "source": []
  },
  {
   "cell_type": "code",
   "execution_count": null,
   "id": "ff8a8378",
   "metadata": {},
   "outputs": [],
   "source": []
  },
  {
   "cell_type": "code",
   "execution_count": null,
   "id": "3b3ad47e",
   "metadata": {},
   "outputs": [],
   "source": []
  },
  {
   "cell_type": "code",
   "execution_count": null,
   "id": "6d8dbf0d",
   "metadata": {},
   "outputs": [],
   "source": []
  },
  {
   "cell_type": "code",
   "execution_count": null,
   "id": "6f1d66a1",
   "metadata": {},
   "outputs": [],
   "source": []
  },
  {
   "cell_type": "code",
   "execution_count": null,
   "id": "92e86e8c",
   "metadata": {},
   "outputs": [],
   "source": []
  }
 ],
 "metadata": {
  "kernelspec": {
   "display_name": "Python 3 (ipykernel)",
   "language": "python",
   "name": "python3"
  },
  "language_info": {
   "codemirror_mode": {
    "name": "ipython",
    "version": 3
   },
   "file_extension": ".py",
   "mimetype": "text/x-python",
   "name": "python",
   "nbconvert_exporter": "python",
   "pygments_lexer": "ipython3",
   "version": "3.10.6"
  }
 },
 "nbformat": 4,
 "nbformat_minor": 5
}
